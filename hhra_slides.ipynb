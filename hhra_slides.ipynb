{
 "cells": [
  {
   "cell_type": "markdown",
   "metadata": {},
   "source": [
    "## what is HHRA?\n",
    "\n",
    "![hhra](http://i.imgur.com/3Dko1TD.png)"
   ]
  },
  {
   "cell_type": "markdown",
   "metadata": {},
   "source": [
    "## Hazard Identification\n",
    "- Animal Experiments\n",
    "- Epidemiological Studies\n",
    "- Tissue based studies\n",
    "- [WHO IPCS](http://www.who.int/ipcs/en/)\n",
    "- [EPA IRIS](https://www.epa.gov/iris)"
   ]
  },
  {
   "cell_type": "markdown",
   "metadata": {},
   "source": [
    "## Strategies of Exposure Assessment\n",
    "- Plan an exposure pathway\n",
    "- Sample soil elements\n",
    "- Sample air particulates if needed\n",
    "- Sampling from water sources\n",
    "- Sample Raw vegetables, fish, poultry, meat\n",
    "- Sample Cooked food"
   ]
  },
  {
   "cell_type": "markdown",
   "metadata": {},
   "source": [
    "## Measure Personal Exposure \n",
    "- Diet Surveys\n",
    "- Hair Specimens\n",
    "- Blood Samples\n",
    "- Urine sample\n",
    "- Personal Sampling"
   ]
  },
  {
   "cell_type": "markdown",
   "metadata": {},
   "source": [
    "## Diet Survey Form\n",
    "![Diet Survey Form](http://img.docstoccdn.com/thumb/orig/56489744.png)"
   ]
  },
  {
   "cell_type": "markdown",
   "metadata": {},
   "source": [
    "## New Zealand Diet Survey\n",
    "[New Zealand Diet Survey](http://www.health.govt.nz/system/files/documents/publications/methodology-report.pdf)\n",
    "![Summarised Contents]([Imgur](http://i.imgur.com/IL1peQd.png))\n"
   ]
  },
  {
   "cell_type": "markdown",
   "metadata": {},
   "source": [
    "## Environmental Sampling - Water Sampling\n",
    "![Water Sampling](https://www.plymouth.edu/files/2013/07/EPSCoR-Water-Sampling713-007.jpg)"
   ]
  },
  {
   "cell_type": "markdown",
   "metadata": {},
   "source": [
    "## Environmental Sampling Methods\n",
    "[EPA Sampling Methods Page](https://www.epa.gov/measurements)"
   ]
  },
  {
   "cell_type": "markdown",
   "metadata": {},
   "source": [
    "## General Formula for Exposure Assessment\n",
    "\n",
    "$ADI = (Conc * Freq * Amt * Time) \\, / (BW) * (AT)$\n",
    "Where\n",
    "- ADI = Averaged Daily Intake\n",
    "- Conc = Averaged Concentration of the toxin in the environmental sample\n",
    "- Freq = Averaged Frequency of Intake (Respiratory rate, frequency of meals, etc)\n",
    "- Amt = Averaged Amount of intake per session\n",
    "- Time = Time period of the survey (over weeks or months)\n",
    "- BW = Averaged Body Weight in Kg\n",
    "- AT = Time estimated in days\n"
   ]
  },
  {
   "cell_type": "markdown",
   "metadata": {},
   "source": [
    "## Dose Response\n",
    "- Dose is the amount of toxin at the point of action\n",
    "- Response = Action or event or outcome\n",
    "- Assume: \"If the dose increases, the outcome will increase\""
   ]
  },
  {
   "cell_type": "markdown",
   "metadata": {},
   "source": [
    "## Concept of Threshold\n",
    "- Linearity of Dose Response\n",
    "- Rfd (Reference Dose)\n",
    "- Slope\n",
    "- LOAEL/NOAEL"
   ]
  },
  {
   "cell_type": "markdown",
   "metadata": {},
   "source": [
    "## Dose Response Graph: Arsenic\n",
    "![Dose Response Arsenic](http://bicn.com/acic/resources/infobank/dch98-12conf/images/3-4fig1.gif)"
   ]
  },
  {
   "cell_type": "markdown",
   "metadata": {},
   "source": [
    "## Linear Dose Response Graphs\n",
    "![Arsenic Linear dose Response](http://users.physics.harvard.edu/~wilson/publications/EPA3_2000_files/image008.gif)"
   ]
  },
  {
   "cell_type": "markdown",
   "metadata": {},
   "source": [
    "## Dose Response Curve: LOAEL and NOAEL\n",
    "![Loael](https://toxlearn.nlm.nih.gov/htmlversion/images/6_6_dose_response_chart.jpg)"
   ]
  },
  {
   "cell_type": "markdown",
   "metadata": {},
   "source": [
    "## Dose Response Curve: LD50\n",
    "![Slope](https://toxlearn.nlm.nih.gov/htmlversion/images/6_3_dose_response_graph.jpg)"
   ]
  },
  {
   "cell_type": "markdown",
   "metadata": {},
   "source": [
    "## Summary of Dose-Response Analysis\n",
    "![Summary](http://i.stack.imgur.com/LjPiE.png)"
   ]
  },
  {
   "cell_type": "markdown",
   "metadata": {},
   "source": [
    "## Concept of Rfd\n",
    "\n",
    "![Rfd](http://i.imgur.com/V8Zld2B.png)\n",
    "\n",
    "- Daily Exposure over a lifetime\n",
    "- Without serious adverse effect"
   ]
  },
  {
   "cell_type": "markdown",
   "metadata": {},
   "source": [
    "## Formula of Rfd\n",
    "\n",
    "$Rfd = NOAEL \\, / \\, (UF * MF)$\n",
    "\n",
    "Rfd = Reference Dose\n",
    "NOAEL = No observed adverse effect level\n",
    "UF = Uncertainty factor\n",
    "MF = Modification Factor"
   ]
  },
  {
   "cell_type": "markdown",
   "metadata": {},
   "source": [
    "## Database of Rfd (example here, Arsenic)\n",
    "![Arsenic rfd](http://i.imgur.com/BUbbrzR.png)"
   ]
  },
  {
   "cell_type": "markdown",
   "metadata": {},
   "source": [
    "## Risk Characterisation\n",
    "- Use information from Dose response and Exposure Assessment\n",
    "- Different for Cancerous and non-cancerous effects\n",
    "- For cancerous effects, $Risk \\; C = \\, Slope \\, Factor * \\, Exposure$\n",
    "- For non-cancerous effect, $Hazard \\, Quotient = \\, Exposure \\, / \\, Rfd\n",
    "\n",
    "    "
   ]
  },
  {
   "cell_type": "markdown",
   "metadata": {},
   "source": [
    "## Interpretation for Risk Characterisation Estimates\n",
    "- For cancer, if the rates are higher than $10^-4$ to $10^-6$, then this toxin is high risk\n",
    "- In theory, there is no lower limit for Cancer Risks\n",
    "- For non-cancer if the HQ > 1, then the toxin is hazardous"
   ]
  }
 ],
 "metadata": {
  "kernelspec": {
   "display_name": "R",
   "language": "R",
   "name": "ir"
  },
  "language_info": {
   "codemirror_mode": "r",
   "file_extension": ".r",
   "mimetype": "text/x-r-source",
   "name": "R",
   "pygments_lexer": "r",
   "version": "3.3.0"
  }
 },
 "nbformat": 4,
 "nbformat_minor": 1
}
