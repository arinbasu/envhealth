{
 "cells": [
  {
   "cell_type": "markdown",
   "metadata": {},
   "source": [
    "## A tutorial on How to Conduct Environmental Health Risk Assessment"
   ]
  },
  {
   "cell_type": "markdown",
   "metadata": {},
   "source": [
    "## What is Environmental health risk assessment"
   ]
  },
  {
   "cell_type": "markdown",
   "metadata": {},
   "source": [
    "## Four Steps of Environmental Health Risk Assessment"
   ]
  },
  {
   "cell_type": "markdown",
   "metadata": {},
   "source": [
    "## Hazard Identification\n",
    "\n",
    "Start with the [WHO IPCS website](http://www.who.int/ipcs/publications/ehc/ehc_numerical/en/). Alternatively, check here first, [IPCS Inchem](http://www.inchem.org/pages/ehc.html)\n",
    "\n",
    "These websites provides you with the most important information you need about any chemical or exposure variable you will need to conduct an environmental health risk assessment. For each exposure, the WHO IPCS website on this page lists the nature of the exposure, how to measure this exposure, and how to study. In addition, the WHO IPCS tables also provide you with more information about animal experiments, and associated epidemiological studies. Quite often, you will find that these documents are historical and they provide old information. Sometimes, this may be problematic. For example, in case of Arsenic, we know that our knowledge about the metabolism of inorganic Arsenic and its importance have changed over many years, so one needs to be careful in these interpretations. For instance, till about 2000, it was believed that increased methylation of inorganic arsenic into its constituents metabolites that were methylated was a \"good\" thing, but it was later established that this methylation process was actually associated with increased toxicity of Arsenic. Nevertheless, IPCS documentations are very important for getting into a glimpse of the nature of hte chemical compound you want to study and for understanding some of the biological properties that you must understand in order to conduct health risk assessment.\n",
    "\n",
    "Another way to identify hazards of potential toxins or environmental exposure variables would be to study environmental epidemiological studies. Another good source is to use the United States Environmental Protection Agency (EPA) website where you can find information on almost any exposure or hazard that you can search. We shall also see that you will need to use the EPA IRIS database to conduct dose response assessment in the second or third step. Here is the link to the EPA database:\n",
    "\n",
    "[EPA Database](http://www.epa.gov)\n",
    "\n",
    "This is your starting point, but this is a goldmine of information and it is very easy to get lost in this vast database. [Start with the risk tools and databases](https://www.epa.gov/risk/risk-tools-and-databases)\n",
    "\n",
    "Another source within the EPA where you can get a lot of information about health hazards associated with exposure factors is the EPA IRIS databases. IRIS stands for Integrated risk assessment information system and it's a goldmine of information. For example, if you type \"mercury\" in the search box, it will not only give you information about mercury, but also information about all related compounds as well (such as methylmercury, and cadmium for instance). \n",
    "\n",
    "The third database that you can use to learn a lot about environmentally important agents is the [Specialised Information Services of the National Library of Medicine of the United States](https://sis.nlm.nih.gov). Besides these sources, you can also search Google Scholar, and other information databases such as Pubmed for searching for epidemiological studies on human diseases associated with specific exposures or see if a health risk assessment has already been done and published that you can either repeat in your setting. \n",
    "\n",
    "\n"
   ]
  },
  {
   "cell_type": "markdown",
   "metadata": {},
   "source": [
    "## Exposure Assessment\n",
    "\n",
    "Step 1: Create a Pathway of Exposure\n",
    "\n",
    "In this first step, you will need to map out what are the different pathways through which the exposure variable can enter the human system. This mapping exercise is very important. For example, let's say you are investigating whether mercury spill from a plant has contaminated the soil and water bodies of a locality X. People are living in the vicinity of the plant in locality X. They may be fishing in the local waters, they may eat local produce, and fish etc. Food grown in the locality gets bioconcentrated with mercury. Besides this, mercury may also be present in the air they breathe. All these routes are possible channels of entry of mercury in the body. Before even trying to assign values as to the extent to which say the chemical can enter the human system, it is important to map these various pathways. \n",
    "\n",
    "Step II: Figure out How often the participants in the locality or where you are going to conduct the risk assessment do come in contact with the offending agent\n",
    "\n",
    "This essentially means that you will be measuring their intake patterns. Think of some of these things:\n",
    "\n",
    "| Pathways    | What to consider                   |\n",
    "|----------   |------------------                  |\n",
    "| Oral Route  | How much food they eat?            |\n",
    "|             | What do they eat?                  |\n",
    "| Inhalation  | How much they inhale?              |\n",
    "|             | How much time they spend outdoors? |\n",
    "|             | How much time they spend indoors?  |\n",
    "\n",
    "Table 1. Routes of exposure\n",
    "\n",
    "When you construct this matrix, think of how much they eat, breathe, or come in dermal contact, how long, and consider every which way they may be exposed to the agent that you are interested in to explore for your exposure assessment. \n",
    "\n",
    "How will you assess this information? For dietary variables, you can conduct a cross-sectional survey and conduct what is often referred to as a diet survey to test how much of a food item that person is eating. Also, check how the food is cooked, how much in each recipe, and what are the possibilities in each step of the cooking process or food preparation process you can get the contaminant in the food items. \n",
    "\n",
    "For example, if you are investigating the role of wastewater in agriculture and their health effects, it'd be a good idea to test the extent to which people of all ages come in contact with the wastewater while they use this for irrigation. Also, what is the pattern of irrigation that are being used?\n",
    "\n",
    "Step III: Go out and actually estimate the concentration of the exposure in the physical media that you are interested in\n",
    "\n",
    "This may mean, sampling water, or air, or the food itself. It may also mean, testing for soil, for spillage that comes out of the factory (if that is what you are interested in), or indeed in any media that you are interested in. Also, some agents enter the human body and then undergo metabolic transformation, and in these situations it is important to understand what these metabolic products are. Sometimes, exposures are transient and elusive, so if you cannot measure at the point when they are occurring, you will not make much headway in their assessment. At other times, exposures are prolonged and take a long time to manifest in health effects. In those situation, chemical accumulate in the human body. So, you will need to measure them over a period of time. \n",
    "\n",
    "Step IV: Now, bring back everything to the formula\n",
    "\n",
    "The formula may sound like this\n",
    "\n",
    "$ ADI = C * D * T / (BW * AT)$"
   ]
  },
  {
   "cell_type": "markdown",
   "metadata": {},
   "source": [
    "This average "
   ]
  },
  {
   "cell_type": "markdown",
   "metadata": {},
   "source": [
    "## Dose Response Estimation\n",
    "\n",
    "Slope Factor for Cancer Effects\n",
    "\n",
    "IRIS database from EPA will give you both\n",
    "\n",
    "Rfd for Non-cancer effects"
   ]
  },
  {
   "cell_type": "markdown",
   "metadata": {},
   "source": [
    "## Risk Characterisation\n",
    "\n",
    "$Cancer \\; Effects = ADI * Slope \\, Factor$\n",
    "\n",
    "$Hazard \\, Quotient = ADI \\,/ \\,Rfd$"
   ]
  },
  {
   "cell_type": "code",
   "execution_count": null,
   "metadata": {
    "collapsed": true
   },
   "outputs": [],
   "source": []
  }
 ],
 "metadata": {
  "kernelspec": {
   "display_name": "R",
   "language": "R",
   "name": "ir"
  },
  "language_info": {
   "codemirror_mode": "r",
   "file_extension": ".r",
   "mimetype": "text/x-r-source",
   "name": "R",
   "pygments_lexer": "r",
   "version": "3.3.0"
  }
 },
 "nbformat": 4,
 "nbformat_minor": 1
}
