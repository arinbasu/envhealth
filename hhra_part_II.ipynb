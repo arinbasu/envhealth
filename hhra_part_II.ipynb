{
 "cells": [
  {
   "cell_type": "markdown",
   "metadata": {},
   "source": [
    "## Human Health Risk Assessment Part II"
   ]
  },
  {
   "cell_type": "code",
   "execution_count": 46,
   "metadata": {
    "collapsed": false
   },
   "outputs": [],
   "source": [
    "fish1 <- c(\"carp\", \"carp\", \"carp\", \"carp\", \"cat\", \"cat\", \"cat\")\n",
    "fsize1 <- c(16, 18, 16, 17, 18, 17, 18)\n",
    "hgconc1 <- c(0.33, 0.36, 0.36, 0.33, 0.36, 0.45, 0.40)\n",
    "\n",
    "df1 <- as.data.frame(cbind(fish1, fsize1, hgconc1))"
   ]
  },
  {
   "cell_type": "code",
   "execution_count": 48,
   "metadata": {
    "collapsed": false
   },
   "outputs": [
    {
     "data": {
      "text/html": [
       "<ol class=list-inline>\n",
       "\t<li>0.33</li>\n",
       "\t<li>0.45</li>\n",
       "</ol>\n"
      ],
      "text/latex": [
       "\\begin{enumerate*}\n",
       "\\item 0.33\n",
       "\\item 0.45\n",
       "\\end{enumerate*}\n"
      ],
      "text/markdown": [
       "1. 0.33\n",
       "2. 0.45\n",
       "\n",
       "\n"
      ],
      "text/plain": [
       "[1] 0.33 0.45"
      ]
     },
     "metadata": {},
     "output_type": "display_data"
    }
   ],
   "source": [
    "range(hgconc1)\n"
   ]
  },
  {
   "cell_type": "code",
   "execution_count": 43,
   "metadata": {
    "collapsed": false
   },
   "outputs": [
    {
     "ename": "ERROR",
     "evalue": "Error in median.default(df1$hgconc1): need numeric data\n",
     "output_type": "error",
     "traceback": [
      "Error in median.default(df1$hgconc1): need numeric data\nTraceback:\n",
      "1. median(df1$hgconc1)",
      "2. median.default(df1$hgconc1)",
      "3. stop(\"need numeric data\")"
     ]
    }
   ],
   "source": [
    "median(df1$hgconc1)"
   ]
  },
  {
   "cell_type": "code",
   "execution_count": 26,
   "metadata": {
    "collapsed": false
   },
   "outputs": [
    {
     "data": {
      "text/html": [
       "<ol class=list-inline>\n",
       "\t<li>1</li>\n",
       "\t<li>2</li>\n",
       "\t<li>2</li>\n",
       "\t<li>1</li>\n",
       "\t<li>2</li>\n",
       "\t<li>4</li>\n",
       "\t<li>3</li>\n",
       "</ol>\n"
      ],
      "text/latex": [
       "\\begin{enumerate*}\n",
       "\\item 1\n",
       "\\item 2\n",
       "\\item 2\n",
       "\\item 1\n",
       "\\item 2\n",
       "\\item 4\n",
       "\\item 3\n",
       "\\end{enumerate*}\n"
      ],
      "text/markdown": [
       "1. 1\n",
       "2. 2\n",
       "3. 2\n",
       "4. 1\n",
       "5. 2\n",
       "6. 4\n",
       "7. 3\n",
       "\n",
       "\n"
      ],
      "text/plain": [
       "[1] 1 2 2 1 2 4 3"
      ]
     },
     "metadata": {},
     "output_type": "display_data"
    }
   ],
   "source": [
    "df1$hgconc1\n"
   ]
  },
  {
   "cell_type": "code",
   "execution_count": 49,
   "metadata": {
    "collapsed": true
   },
   "outputs": [],
   "source": [
    "wt_kg = 30\n",
    "flevel = 0.33\n",
    "intake_ug_kg = 2.2\n",
    "whotdi = 0.48\n",
    "fish_intake = 200\n",
    "hg_fish = 0.33 * 200\n",
    "hg_intake_fish = 30 * 0.33 * 200\n"
   ]
  },
  {
   "cell_type": "code",
   "execution_count": 50,
   "metadata": {
    "collapsed": false
   },
   "outputs": [
    {
     "data": {
      "text/html": [
       "1980"
      ],
      "text/latex": [
       "1980"
      ],
      "text/markdown": [
       "1980"
      ],
      "text/plain": [
       "[1] 1980"
      ]
     },
     "metadata": {},
     "output_type": "display_data"
    }
   ],
   "source": [
    "hg_intake_fish"
   ]
  },
  {
   "cell_type": "code",
   "execution_count": 51,
   "metadata": {
    "collapsed": true
   },
   "outputs": [],
   "source": [
    "intake = 0.33 * 200 / 30"
   ]
  },
  {
   "cell_type": "code",
   "execution_count": 52,
   "metadata": {
    "collapsed": false
   },
   "outputs": [
    {
     "data": {
      "text/html": [
       "2.2"
      ],
      "text/latex": [
       "2.2"
      ],
      "text/markdown": [
       "2.2"
      ],
      "text/plain": [
       "[1] 2.2"
      ]
     },
     "metadata": {},
     "output_type": "display_data"
    }
   ],
   "source": [
    "intake"
   ]
  },
  {
   "cell_type": "code",
   "execution_count": 53,
   "metadata": {
    "collapsed": false
   },
   "outputs": [
    {
     "data": {
      "text/html": [
       "4.58333333333333"
      ],
      "text/latex": [
       "4.58333333333333"
      ],
      "text/markdown": [
       "4.58333333333333"
      ],
      "text/plain": [
       "[1] 4.583333"
      ]
     },
     "metadata": {},
     "output_type": "display_data"
    }
   ],
   "source": [
    "2.2/0.48"
   ]
  },
  {
   "cell_type": "markdown",
   "metadata": {
    "collapsed": true
   },
   "source": [
    "## Notes from the Cadmium HRA"
   ]
  },
  {
   "cell_type": "markdown",
   "metadata": {},
   "source": [
    "![Cadmium concentration](cadmium_conc.png)\n",
    "\n",
    "This table shows the cadmium concentration in commonly available food. "
   ]
  },
  {
   "cell_type": "markdown",
   "metadata": {},
   "source": [
    "## Dose response curve of Cadmium\n",
    "![Dose Response Curve](dose_response.png)"
   ]
  },
  {
   "cell_type": "raw",
   "metadata": {},
   "source": [
    "## how Average daily intake was calculated\n",
    "adi = (c * ir * ef * ed) / (bw * at) where\n",
    "adi = average daily intake\n",
    "c = chemical concentration in the exposure media (mg/kg)\n",
    "ir = ingestion rate (g/d)\n",
    "ef = exposure frequency (d/yr)\n",
    "ed = exposure duration (yr)\n",
    "bw = body weight\n",
    "at = time period averaged\n",
    "\n",
    "## cancer risk \n",
    "ilcr (incremental lifetime cancer risk)\n",
    "= sf * adi\n",
    "sf = slope factor \n",
    "\n",
    "## non-cancer risk\n",
    "hazard quotient (hq) = adi / rfd where\n",
    "adi = average daily intake\n",
    "rfd = reference dose"
   ]
  },
  {
   "cell_type": "markdown",
   "metadata": {},
   "source": [
    "## Summary of this study and impressions\n",
    "\n",
    "**Summary**\n",
    "\n",
    "This was an environmental health risk assessment for cadmium exposure for chinese population and the risk characterisation for lung cancer and hypertension and kidney failure for the chinese poulation. The hazard was exposure to cadmium. It is known that exposure to cadmium can cause hypertension and kidney related diseases or renal impairment. Cadmium also concentrates in the renal cortex. In the EHRA exercise, it was noted that Cadmium was released in the environment from a couple of sources: one was release from collapse of a tailing dam in a lead and zinc mine, and the other was release from dumping site of electronic and electrical wastes. Cadmium was bioconcentrated in rice that was grown in the soil and also came from tobacco smoke, and from directly inegested in the soil. The WHO/IPCS limit of exposure to Cd is set at 5.8 ug/gCr in urine, and the European Food Safety Authority stipulate a lower concentration 1 ug/gCr in urine. This is the biological exposure or dose as Cd is excreted in urine and then measured. The dose response curve was constructed on the basis of an epidemiological study (a cross-sectional survey was conducted) study and blood pressure of the people were taken and also for every individual in the survey, renal fuctions were measured. The renal function and the blood pressure was then graphed against the levels of urinary cadmium concentrations. It was found that for all people who were surveyed, the concentration of uCd was within the limit prescribed by the WHO/IPCS but the levels of EFSA limits were exceeded. For lung cancer, the incremental lifetime risk of cancer was estimated (the normal levels should be 10^-4 to 10^-6) based on adl (average daily intake * slope factor or the slope of the dose-response curve) and for non-cancer risks (that is hypertension and renal dysfunction), hazard quotient (that is, the adl/reference dose) was estimated. If the hazard quotient is less than 1 or 1, then there is no risk from the non-cancer disease conditions; the hq > 1, then such exposure will put the individuals at higher risk. \n",
    "\n",
    "**Impression**\n",
    "\n",
    "This was a comprehensive study that followed all the needed steps of EHRA that is hazard was identified: that of cadmium as causing hypertension and renal damage (the source of this informaiton were epidemiological studies); the exposure assessment was done directly from food samlples (rice and vegetables and meat such as beef, and pork, and fish), the dose response was done with respect to biological sampling (urinary Cd measurement matched against creatinine), and the subsequent blood pressure measurements. As this study was done on the basis of a cross-sectional survey, it is doubtful how robust the dose response curve might have been, but nevertheless as pathways were considered and ADIs were estimated, the HQs are believable. The slope factors were taken from other stuides and the cancer risk (ILCR) were estimated on the basis of ADI * slope factors. All in all, a comprehensive study. "
   ]
  },
  {
   "cell_type": "markdown",
   "metadata": {},
   "source": [
    "## Health Risk Assessment of Wastewater usage in Agriculture\n",
    "\n",
    "![summary of epidemiological studies](epi_studies.png)\n",
    "\n",
    "![Exposure Pathways](exposure_pathways.png)\n",
    "\n",
    "**Summary**\n",
    "\n",
    "This is a lieterature review based desktop risk assessment of the health risk assessment of wastewater used for agriculture. The authors searched the literature databases with several terms and identified 125 articles from where they reduced to 23 articles that discussed epidemiological approaches to identify health effects of wastewater exposure. A narative summary of the major articles, pathways, and exposures were discussed. Inorganic chemicals, organic chemicals, and microbiologicla contaminants were the three classifications of the exposure in the agriculture wastewater. Besides these pathways, there are other soruces of exposure for example through skin, and for children, through eating or through their activities. Plus, sprinkling of water on leaves, and concentrations in the root vegeables also lead to increased bioconcentrations that need to be addressed. A good summary article that need to be studied for actual wastewater related risk assessment. \n",
    "\n"
   ]
  },
  {
   "cell_type": "markdown",
   "metadata": {},
   "source": [
    "## Environmental Health Risk Assessment of Dioxin\n",
    "\n",
    "\n",
    "![From where did they collect the samples](samples.png)\n",
    "\n",
    "![Estimated levels of Exposure](exposure_levels.png)\n",
    "\n",
    "**Summary**\n",
    "\n",
    "In this study the authos conducted a full scale environmental health risk assessment of the potential health effects of being exposed to heavy concnetrations fo dioxins (particuarly TCDD) among Vietnamese population in two cities. The hazards due to TCDD exposure is well known in the form of cancer of different organs. Huge amounts of TCDD were released into the soil as a spill but also sprayed during the Vietnam war. In this study, the authors conducted an EHRA where they took stock of the patterns of food consumption of two types of food items -- high risk food that were locally produced and that had very concentrations of TCDD residues (the WHO standards are 1-4 pg/Kg/day) whereas these ones had 20 times more residues as per calculations. The other group were food that were low risk and were grown elsewhere and was brought int he local areas from where the poeple weere to buy and consume. These food items had far less amont of TCDD and accordingly their daily intake of TCDD from food items were low. For their exposure assessments, they used pooling 46 items of food and sampling the amount of TCDD in them; plus they also conducted a diet survey and pooled data from the Naitonal Nutrition Survey plus they conducted a Knowledge Attitude Practice survey to find out their daily consumption pattern. On this basis, they construted how much food and from this, how much TCDD were the residents being exposed to. While they did not use a formal dose-response curve to estimate possible risks, they used the WHO standards and discussed other standards to estmate the extent of possible health effects. As TCDD is classified as a Class I Carcinogen, therefore a separate analysis was not presented (but the authors did not mention any rationale for this). There was also no presentaiton of HQ (Hazard Quotient) or increased risk of cancer based on consumption pattern. \n",
    "\n"
   ]
  },
  {
   "cell_type": "markdown",
   "metadata": {},
   "source": [
    "## Dose Response \n",
    "\n",
    "valuate the information obtained during the hazard identification step to estimate the amount of a chemical that is likely to result in a particular health effect in humans\n",
    "\n",
    "dose makes the poison\n",
    "\n",
    "estimate how different levels of exposure to a chemical can impact the likelihood and severity of health effects.\n"
   ]
  },
  {
   "cell_type": "markdown",
   "metadata": {},
   "source": [
    "## Cancer Effects\n",
    "\n",
    "there are no exposures that have “zero risk” unless there is clear evidence otherwise\n",
    "\n"
   ]
  },
  {
   "cell_type": "markdown",
   "metadata": {},
   "source": [
    "## Example\n",
    "Water contains high concentrations of arsenic (20 ug/L) that has leached into the groundwater. People are drinking groundwater unknowningly; we suspect that there is contamination and we would like to conduct an environmental health impact assessment. What do we do? \n",
    "\n",
    "\n",
    "## Step I Identify the Hazard\n",
    "\n",
    "- Skin lesions\n",
    "- Lung cancer\n",
    "- Skin Cancer\n",
    "- Bladder Cancer\n",
    "- Bronchiectasis\n",
    "\n",
    "## Exposure Asessment\n",
    "- Map the different access mechanisms\n",
    "- Average concentration of As in water in ug/L (Conc)\n",
    "- How much water consumed on an average? 2L (Amount)\n",
    "- Over how much time? (D)\n",
    "- Body weight (BW)\n",
    "- Assessment Time in days (AT)\n",
    "- Average Daily Intake = (Conc * Amount * D)/ (BW * AT) in ug/Kg\n",
    "- Direct measurement\n",
    "- 50 * 2/ (70)\n",
    "- 1.10 * 10^-3/Kg\n",
    "- 1.5\n",
    "- 1.65 * 10^-3\n",
    "- 0.00165\n",
    "- \n",
    "\n",
    "## Dose Response \n",
    "- Slope estimate from US EPA\n",
    "- Rfc estimate from US EPA or other sources\n",
    "\n",
    "## Risk Characterisation\n",
    "- ADI * Slope Estimate in units of 1 per 10, 000\n",
    "- If it is less than 1 per 100, 000 or 1 per 1, 000, 000: not going to cause cancer\n",
    "- For non-cancer effects we measure Hazard Quotient\n",
    "- Hazard Quotient = ADI/Rfc\n",
    "- If Hazard Quotient > 1, risky, else not\n",
    "\n",
    "## Do this for each individual health effect\n",
    "- 1.5 * "
   ]
  }
 ],
 "metadata": {
  "kernelspec": {
   "display_name": "R",
   "language": "R",
   "name": "ir"
  },
  "language_info": {
   "codemirror_mode": "r",
   "file_extension": ".r",
   "mimetype": "text/x-r-source",
   "name": "R",
   "pygments_lexer": "r",
   "version": "3.3.0"
  }
 },
 "nbformat": 4,
 "nbformat_minor": 0
}
